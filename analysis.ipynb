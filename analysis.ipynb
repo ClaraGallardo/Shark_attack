{
 "cells": [
  {
   "cell_type": "code",
   "execution_count": 1,
   "id": "8af15c44",
   "metadata": {},
   "outputs": [],
   "source": [
    "import pandas as pd\n",
    "import numpy as np\n",
    "import warnings\n",
    "warnings.filterwarnings('ignore')  # esto es para quitar prints\n",
    "from urllib.request import urlopen\n",
    "pd.set_option('display.max_columns', None)"
   ]
  },
  {
   "cell_type": "code",
   "execution_count": 2,
   "id": "2dddf065",
   "metadata": {},
   "outputs": [],
   "source": [
    "sharks_ori = pd.read_csv('data/attacks.csv', encoding='latin1')\n",
    "\n",
    "shark=sharks_ori.copy()\n"
   ]
  }
 ],
 "metadata": {
  "kernelspec": {
   "display_name": "clase",
   "language": "python",
   "name": "python3"
  },
  "language_info": {
   "codemirror_mode": {
    "name": "ipython",
    "version": 3
   },
   "file_extension": ".py",
   "mimetype": "text/x-python",
   "name": "python",
   "nbconvert_exporter": "python",
   "pygments_lexer": "ipython3",
   "version": "3.10.13"
  }
 },
 "nbformat": 4,
 "nbformat_minor": 5
}
