{
 "cells": [
  {
   "cell_type": "code",
   "execution_count": 1,
   "id": "67ac9ed5",
   "metadata": {},
   "outputs": [],
   "source": [
    "import pandas as pd\n",
    "import numpy as np\n",
    "import regex as re\n",
    "\n",
    "import warnings\n",
    "warnings.filterwarnings('ignore') \n",
    "\n",
    "import pylab as plt\n",
    "import seaborn as sns\n",
    "import matplotlib as plt"
   ]
  },
  {
   "cell_type": "code",
   "execution_count": 2,
   "id": "3aa48b43",
   "metadata": {},
   "outputs": [
    {
     "data": {
      "text/html": [
       "<div>\n",
       "<style scoped>\n",
       "    .dataframe tbody tr th:only-of-type {\n",
       "        vertical-align: middle;\n",
       "    }\n",
       "\n",
       "    .dataframe tbody tr th {\n",
       "        vertical-align: top;\n",
       "    }\n",
       "\n",
       "    .dataframe thead th {\n",
       "        text-align: right;\n",
       "    }\n",
       "</style>\n",
       "<table border=\"1\" class=\"dataframe\">\n",
       "  <thead>\n",
       "    <tr style=\"text-align: right;\">\n",
       "      <th></th>\n",
       "      <th>Date</th>\n",
       "      <th>Year</th>\n",
       "      <th>Type</th>\n",
       "      <th>Country</th>\n",
       "      <th>Area</th>\n",
       "      <th>Location</th>\n",
       "      <th>Activity</th>\n",
       "      <th>Name</th>\n",
       "      <th>Sex</th>\n",
       "      <th>Age</th>\n",
       "      <th>...</th>\n",
       "      <th>Species</th>\n",
       "      <th>InvestigatororSource</th>\n",
       "      <th>pdf</th>\n",
       "      <th>hrefformula</th>\n",
       "      <th>href</th>\n",
       "      <th>CaseNumber1</th>\n",
       "      <th>CaseNumber2</th>\n",
       "      <th>originalorder</th>\n",
       "      <th>Unnamed:22</th>\n",
       "      <th>Unnamed:23</th>\n",
       "    </tr>\n",
       "  </thead>\n",
       "  <tbody>\n",
       "    <tr>\n",
       "      <th>0</th>\n",
       "      <td>1845-1853</td>\n",
       "      <td>0</td>\n",
       "      <td>Unprovoked</td>\n",
       "      <td>CEYLON (SRI LANKA)</td>\n",
       "      <td>Eastern Province</td>\n",
       "      <td>Below the English fort, Trincomalee</td>\n",
       "      <td>Swiming</td>\n",
       "      <td>Anonymous</td>\n",
       "      <td>M</td>\n",
       "      <td>15</td>\n",
       "      <td>...</td>\n",
       "      <td>0</td>\n",
       "      <td>S.W. Baker</td>\n",
       "      <td>ND-0001-Ceylon.pdf</td>\n",
       "      <td>http://sharkattackfile.net/spreadsheets/pdf_di...</td>\n",
       "      <td>http://sharkattackfile.net/spreadsheets/pdf_di...</td>\n",
       "      <td>ND.0001</td>\n",
       "      <td>ND.0001</td>\n",
       "      <td>2.0</td>\n",
       "      <td>0</td>\n",
       "      <td>0</td>\n",
       "    </tr>\n",
       "    <tr>\n",
       "      <th>1</th>\n",
       "      <td>1883-1889</td>\n",
       "      <td>0</td>\n",
       "      <td>Unprovoked</td>\n",
       "      <td>PANAMA</td>\n",
       "      <td>0</td>\n",
       "      <td>Panama Bay 8ÂºN, 79ÂºW</td>\n",
       "      <td>Others</td>\n",
       "      <td>jules patterson</td>\n",
       "      <td>M</td>\n",
       "      <td>0</td>\n",
       "      <td>...</td>\n",
       "      <td>0</td>\n",
       "      <td>The Sun, 10/20/1938</td>\n",
       "      <td>ND-0002-JulesPatterson.pdf</td>\n",
       "      <td>http://sharkattackfile.net/spreadsheets/pdf_di...</td>\n",
       "      <td>http://sharkattackfile.net/spreadsheets/pdf_di...</td>\n",
       "      <td>ND.0002</td>\n",
       "      <td>ND.0002</td>\n",
       "      <td>3.0</td>\n",
       "      <td>0</td>\n",
       "      <td>0</td>\n",
       "    </tr>\n",
       "    <tr>\n",
       "      <th>2</th>\n",
       "      <td>1900-1905</td>\n",
       "      <td>0</td>\n",
       "      <td>Unprovoked</td>\n",
       "      <td>USA</td>\n",
       "      <td>North Carolina</td>\n",
       "      <td>Ocracoke Inlet</td>\n",
       "      <td>Swiming</td>\n",
       "      <td>coast guard personnel</td>\n",
       "      <td>M</td>\n",
       "      <td>0</td>\n",
       "      <td>...</td>\n",
       "      <td>0</td>\n",
       "      <td>F. Schwartz, p.23; C. Creswell, GSAF</td>\n",
       "      <td>ND-0003-Ocracoke_1900-1905.pdf</td>\n",
       "      <td>http://sharkattackfile.net/spreadsheets/pdf_di...</td>\n",
       "      <td>http://sharkattackfile.net/spreadsheets/pdf_di...</td>\n",
       "      <td>ND.0003</td>\n",
       "      <td>ND.0003</td>\n",
       "      <td>4.0</td>\n",
       "      <td>0</td>\n",
       "      <td>0</td>\n",
       "    </tr>\n",
       "    <tr>\n",
       "      <th>3</th>\n",
       "      <td>Before 1903</td>\n",
       "      <td>0</td>\n",
       "      <td>Unprovoked</td>\n",
       "      <td>AUSTRALIA</td>\n",
       "      <td>Western Australia</td>\n",
       "      <td>0</td>\n",
       "      <td>Dive</td>\n",
       "      <td>ahmun</td>\n",
       "      <td>M</td>\n",
       "      <td>0</td>\n",
       "      <td>...</td>\n",
       "      <td>0</td>\n",
       "      <td>H. Taunton; N. Bartlett,  pp. 233-234</td>\n",
       "      <td>ND-0004-Ahmun.pdf</td>\n",
       "      <td>http://sharkattackfile.net/spreadsheets/pdf_di...</td>\n",
       "      <td>http://sharkattackfile.net/spreadsheets/pdf_di...</td>\n",
       "      <td>ND.0004</td>\n",
       "      <td>ND.0004</td>\n",
       "      <td>5.0</td>\n",
       "      <td>0</td>\n",
       "      <td>0</td>\n",
       "    </tr>\n",
       "    <tr>\n",
       "      <th>4</th>\n",
       "      <td>Before 1903</td>\n",
       "      <td>0</td>\n",
       "      <td>Unprovoked</td>\n",
       "      <td>AUSTRALIA</td>\n",
       "      <td>Western Australia</td>\n",
       "      <td>Roebuck Bay</td>\n",
       "      <td>Dive</td>\n",
       "      <td>Anonymous</td>\n",
       "      <td>M</td>\n",
       "      <td>0</td>\n",
       "      <td>...</td>\n",
       "      <td>0</td>\n",
       "      <td>H. Taunton; N. Bartlett,  p. 234</td>\n",
       "      <td>ND-0005-RoebuckBay.pdf</td>\n",
       "      <td>http://sharkattackfile.net/spreadsheets/pdf_di...</td>\n",
       "      <td>http://sharkattackfile.net/spreadsheets/pdf_di...</td>\n",
       "      <td>ND.0005</td>\n",
       "      <td>ND.0005</td>\n",
       "      <td>6.0</td>\n",
       "      <td>0</td>\n",
       "      <td>0</td>\n",
       "    </tr>\n",
       "  </tbody>\n",
       "</table>\n",
       "<p>5 rows × 23 columns</p>\n",
       "</div>"
      ],
      "text/plain": [
       "          Date  Year        Type             Country               Area  \\\n",
       "0    1845-1853     0  Unprovoked  CEYLON (SRI LANKA)   Eastern Province   \n",
       "1    1883-1889     0  Unprovoked              PANAMA                  0   \n",
       "2    1900-1905     0  Unprovoked                 USA     North Carolina   \n",
       "3  Before 1903     0  Unprovoked           AUSTRALIA  Western Australia   \n",
       "4  Before 1903     0  Unprovoked           AUSTRALIA  Western Australia   \n",
       "\n",
       "                              Location Activity                   Name Sex  \\\n",
       "0  Below the English fort, Trincomalee  Swiming              Anonymous   M   \n",
       "1               Panama Bay 8ÂºN, 79ÂºW   Others        jules patterson   M   \n",
       "2                       Ocracoke Inlet  Swiming  coast guard personnel   M   \n",
       "3                                    0     Dive                  ahmun   M   \n",
       "4                          Roebuck Bay     Dive              Anonymous   M   \n",
       "\n",
       "  Age  ... Species                   InvestigatororSource  \\\n",
       "0  15  ...       0                             S.W. Baker   \n",
       "1   0  ...       0                    The Sun, 10/20/1938   \n",
       "2   0  ...       0   F. Schwartz, p.23; C. Creswell, GSAF   \n",
       "3   0  ...       0  H. Taunton; N. Bartlett,  pp. 233-234   \n",
       "4   0  ...       0       H. Taunton; N. Bartlett,  p. 234   \n",
       "\n",
       "                              pdf  \\\n",
       "0              ND-0001-Ceylon.pdf   \n",
       "1      ND-0002-JulesPatterson.pdf   \n",
       "2  ND-0003-Ocracoke_1900-1905.pdf   \n",
       "3               ND-0004-Ahmun.pdf   \n",
       "4          ND-0005-RoebuckBay.pdf   \n",
       "\n",
       "                                         hrefformula  \\\n",
       "0  http://sharkattackfile.net/spreadsheets/pdf_di...   \n",
       "1  http://sharkattackfile.net/spreadsheets/pdf_di...   \n",
       "2  http://sharkattackfile.net/spreadsheets/pdf_di...   \n",
       "3  http://sharkattackfile.net/spreadsheets/pdf_di...   \n",
       "4  http://sharkattackfile.net/spreadsheets/pdf_di...   \n",
       "\n",
       "                                                href CaseNumber1 CaseNumber2  \\\n",
       "0  http://sharkattackfile.net/spreadsheets/pdf_di...     ND.0001     ND.0001   \n",
       "1  http://sharkattackfile.net/spreadsheets/pdf_di...     ND.0002     ND.0002   \n",
       "2  http://sharkattackfile.net/spreadsheets/pdf_di...     ND.0003     ND.0003   \n",
       "3  http://sharkattackfile.net/spreadsheets/pdf_di...     ND.0004     ND.0004   \n",
       "4  http://sharkattackfile.net/spreadsheets/pdf_di...     ND.0005     ND.0005   \n",
       "\n",
       "  originalorder Unnamed:22 Unnamed:23  \n",
       "0           2.0          0          0  \n",
       "1           3.0          0          0  \n",
       "2           4.0          0          0  \n",
       "3           5.0          0          0  \n",
       "4           6.0          0          0  \n",
       "\n",
       "[5 rows x 23 columns]"
      ]
     },
     "execution_count": 2,
     "metadata": {},
     "output_type": "execute_result"
    }
   ],
   "source": [
    "sharkis= pd.read_csv('../data/shark_attack.csv', encoding='latin1')\n",
    "\n",
    "shark=sharkis.copy()\n",
    "\n",
    "shark.head()"
   ]
  },
  {
   "cell_type": "code",
   "execution_count": 3,
   "id": "579f8104",
   "metadata": {},
   "outputs": [],
   "source": [
    "#OBEJTIVO: \n",
    "\n",
    "#Los objetivos principales eran conocer los lugares donde mas ataques hay, actividades que pueden influir y mortalidad.\n",
    "#La mortalidad esta relacionada con el sexo, hay mayor supervivenvia?\n",
    "#¿En que luegar se producen mas ataques ?\n",
    "\n",
    "\n",
    "#1º) Lugares:\n",
    "\n",
    "porcem=shark.Country.value_counts(normalize=True)*100"
   ]
  },
  {
   "cell_type": "code",
   "execution_count": 4,
   "id": "7e585943",
   "metadata": {},
   "outputs": [
    {
     "data": {
      "image/png": "[encoded data removed]",
      "text/plain": [
       "<Figure size 640x480 with 1 Axes>"
      ]
     },
     "metadata": {},
     "output_type": "display_data"
    }
   ],
   "source": [
    "shark.Country.value_counts().head(10).plot.bar();"
   ]
  },
  {
   "cell_type": "code",
   "execution_count": 5,
   "id": "f76d09fd",
   "metadata": {},
   "outputs": [],
   "source": [
    "# El 35.36% de lo ataques se producieron en USA, seguida del 21% en AUSTRALIA."
   ]
  },
  {
   "cell_type": "code",
   "execution_count": 6,
   "id": "75e8265c",
   "metadata": {},
   "outputs": [
    {
     "data": {
      "text/plain": [
       "Activity\n",
       "Others                                24.674706\n",
       "Swiming                               21.183751\n",
       "Board activities(surf,kite,etc...)    19.565217\n",
       "Fishing                               18.597271\n",
       "Dive                                   8.060933\n",
       "Shallow water activities               2.554745\n",
       "Interaction with sharks                2.237385\n",
       "Boat activities                        1.586798\n",
       "Wreck                                  0.777531\n",
       "Rowing                                 0.523643\n",
       "Jumping                                0.238020\n",
       "Name: proportion, dtype: float64"
      ]
     },
     "execution_count": 6,
     "metadata": {},
     "output_type": "execute_result"
    }
   ],
   "source": [
    "shark.Activity.value_counts(normalize=True)*100"
   ]
  },
  {
   "cell_type": "code",
   "execution_count": 7,
   "id": "a679bbe2",
   "metadata": {},
   "outputs": [
    {
     "data": {
      "image/png": "[encoded data removed]",
      "text/plain": [
       "<Figure size 640x480 with 1 Axes>"
      ]
     },
     "metadata": {},
     "output_type": "display_data"
    }
   ],
   "source": [
    "shark.Activity.value_counts().head(5).plot.bar();"
   ]
  },
  {
   "cell_type": "code",
   "execution_count": 8,
   "id": "74dda280",
   "metadata": {},
   "outputs": [],
   "source": [
    "#Este es el top 5 de las actividades que se realizaban cuando se producio el ataque."
   ]
  },
  {
   "cell_type": "code",
   "execution_count": 9,
   "id": "ec9eec1d",
   "metadata": {},
   "outputs": [
    {
     "data": {
      "text/plain": [
       "Fatality\n",
       "Still alive    68.248175\n",
       "Fatality       22.040622\n",
       "Unknown         9.711203\n",
       "Name: proportion, dtype: float64"
      ]
     },
     "execution_count": 9,
     "metadata": {},
     "output_type": "execute_result"
    }
   ],
   "source": [
    "shark.Fatality.value_counts(normalize=True)*100"
   ]
  },
  {
   "cell_type": "code",
   "execution_count": 10,
   "id": "0166921f",
   "metadata": {},
   "outputs": [
    {
     "data": {
      "image/png": "[encoded data removed]",
      "text/plain": [
       "<Figure size 640x480 with 1 Axes>"
      ]
     },
     "metadata": {},
     "output_type": "display_data"
    }
   ],
   "source": [
    "shark.Fatality.value_counts().head(2).plot.bar();"
   ]
  },
  {
   "cell_type": "code",
   "execution_count": 11,
   "id": "274027df",
   "metadata": {},
   "outputs": [],
   "source": [
    "# El 68% de los ataques que se produjeron no fueron mortales "
   ]
  },
  {
   "cell_type": "code",
   "execution_count": 12,
   "id": "41e7b914",
   "metadata": {},
   "outputs": [
    {
     "data": {
      "text/plain": [
       "Activity\n",
       "Swiming                               35.925126\n",
       "Others                                25.197984\n",
       "Fishing                               11.735061\n",
       "Board activities(surf,kite,etc...)    10.007199\n",
       "Dive                                   8.351332\n",
       "Boat activities                        3.167747\n",
       "Wreck                                  2.447804\n",
       "Shallow water activities               1.799856\n",
       "Interaction with sharks                0.935925\n",
       "Jumping                                0.287977\n",
       "Rowing                                 0.143988\n",
       "Name: proportion, dtype: float64"
      ]
     },
     "execution_count": 12,
     "metadata": {},
     "output_type": "execute_result"
    }
   ],
   "source": [
    "actividades_fatales = shark[shark['Fatality'] == 'Fatality']\n",
    "porcentaje_actividades_fatales = actividades_fatales['Activity'].value_counts(normalize=True) * 100\n",
    "\n",
    "porcentaje_actividades_fatales"
   ]
  },
  {
   "cell_type": "code",
   "execution_count": 13,
   "id": "b4fdf06e",
   "metadata": {},
   "outputs": [],
   "source": [
    "# El 35 % de los ataques durante 'Swiming'fueron fatales , el resto tiene un porcentaje bajo por lo que deducimos que al tiburon si no estas dentro del agua\n",
    "# no les apetece ir a buscarte, depende del hambre que tenga 🦈🦈🦈"
   ]
  },
  {
   "cell_type": "code",
   "execution_count": 14,
   "id": "bc2713d7",
   "metadata": {},
   "outputs": [
    {
     "data": {
      "text/plain": [
       "Sex\n",
       "M         80.879086\n",
       "F         10.107902\n",
       "Unkown     9.013012\n",
       "Name: proportion, dtype: float64"
      ]
     },
     "execution_count": 14,
     "metadata": {},
     "output_type": "execute_result"
    }
   ],
   "source": [
    "shark.Sex.value_counts(normalize=True)*100"
   ]
  },
  {
   "cell_type": "code",
   "execution_count": 15,
   "id": "24fe70f7",
   "metadata": {},
   "outputs": [
    {
     "data": {
      "text/plain": [
       "Sex\n",
       "M         80.981167\n",
       "F         10.881190\n",
       "Unkown     8.137642\n",
       "Name: proportion, dtype: float64"
      ]
     },
     "execution_count": 15,
     "metadata": {},
     "output_type": "execute_result"
    }
   ],
   "source": [
    "super = shark[shark['Fatality'] == 'Still alive']\n",
    "Supervivencia = super['Sex'].value_counts(normalize=True) * 100\n",
    "Supervivencia"
   ]
  },
  {
   "cell_type": "code",
   "execution_count": 16,
   "id": "4557a52d",
   "metadata": {},
   "outputs": [],
   "source": [
    "#😯😯😯 El 81& de los hombres sobreviven a ataques de tiburon pero solo el 11% de las mujeres sobreviven"
   ]
  }
 ],
 "metadata": {
  "kernelspec": {
   "display_name": "clase",
   "language": "python",
   "name": "python3"
  },
  "language_info": {
   "codemirror_mode": {
    "name": "ipython",
    "version": 3
   },
   "file_extension": ".py",
   "mimetype": "text/x-python",
   "name": "python",
   "nbconvert_exporter": "python",
   "pygments_lexer": "ipython3",
   "version": "3.10.13"
  }
 },
 "nbformat": 4,
 "nbformat_minor": 5
}
